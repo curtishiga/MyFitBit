{
 "cells": [
  {
   "cell_type": "code",
   "execution_count": 1,
   "metadata": {},
   "outputs": [
    {
     "data": {
      "text/html": [
       "<script type=\"text/javascript\">window.PlotlyConfig = {MathJaxConfig: 'local'};</script><script type=\"text/javascript\">if (window.MathJax) {MathJax.Hub.Config({SVG: {font: \"STIX-Web\"}});}</script><script>requirejs.config({paths: { 'plotly': ['https://cdn.plot.ly/plotly-latest.min']},});if(!window._Plotly) {require(['plotly'],function(plotly) {window._Plotly=plotly;});}</script>"
      ],
      "text/vnd.plotly.v1+html": [
       "<script type=\"text/javascript\">window.PlotlyConfig = {MathJaxConfig: 'local'};</script><script type=\"text/javascript\">if (window.MathJax) {MathJax.Hub.Config({SVG: {font: \"STIX-Web\"}});}</script><script>requirejs.config({paths: { 'plotly': ['https://cdn.plot.ly/plotly-latest.min']},});if(!window._Plotly) {require(['plotly'],function(plotly) {window._Plotly=plotly;});}</script>"
      ]
     },
     "metadata": {},
     "output_type": "display_data"
    }
   ],
   "source": [
    "import pandas as pd\n",
    "pd.set_option('display.float_format', lambda x: '%.2f' %x)\n",
    "import numpy as np\n",
    "import matplotlib.pyplot as plt\n",
    "import seaborn as sns\n",
    "from datetime import datetime\n",
    "import re\n",
    "\n",
    "# import plotly_credentials\n",
    "# plotly_username = plotly_credentials.credentials['username']\n",
    "# plotly_api_key = plotly_credentials.credentials['api_key']\n",
    "\n",
    "import plotly\n",
    "plotly.offline.init_notebook_mode(connected = True)\n",
    "\n",
    "import plotly.graph_objs as go"
   ]
  },
  {
   "cell_type": "code",
   "execution_count": 2,
   "metadata": {},
   "outputs": [],
   "source": [
    "# Import sleep and heart rate data\n",
    "sleep = pd.read_csv('../Data/sleep_cleaned.csv', index_col = 'logId', parse_dates = ['startTime', 'endTime', 'dateOfSleep'])\n",
    "\n",
    "heart_rate = pd.read_csv('../Data/heartrate.csv', parse_dates = ['dateTime'])"
   ]
  },
  {
   "cell_type": "code",
   "execution_count": 3,
   "metadata": {},
   "outputs": [
    {
     "data": {
      "text/html": [
       "<div>\n",
       "<style scoped>\n",
       "    .dataframe tbody tr th:only-of-type {\n",
       "        vertical-align: middle;\n",
       "    }\n",
       "\n",
       "    .dataframe tbody tr th {\n",
       "        vertical-align: top;\n",
       "    }\n",
       "\n",
       "    .dataframe thead th {\n",
       "        text-align: right;\n",
       "    }\n",
       "</style>\n",
       "<table border=\"1\" class=\"dataframe\">\n",
       "  <thead>\n",
       "    <tr style=\"text-align: right;\">\n",
       "      <th></th>\n",
       "      <th>dateOfSleep</th>\n",
       "      <th>efficiency</th>\n",
       "      <th>endTime</th>\n",
       "      <th>infoCode</th>\n",
       "      <th>levels.summary.asleep.count</th>\n",
       "      <th>levels.summary.asleep.minutes</th>\n",
       "      <th>levels.summary.awake.count</th>\n",
       "      <th>levels.summary.awake.minutes</th>\n",
       "      <th>levels.summary.deep.count</th>\n",
       "      <th>levels.summary.deep.minutes</th>\n",
       "      <th>...</th>\n",
       "      <th>levels.summary.wake.count</th>\n",
       "      <th>levels.summary.wake.minutes</th>\n",
       "      <th>levels.summary.wake.thirtyDayAvgMinutes</th>\n",
       "      <th>minutesAfterWakeup</th>\n",
       "      <th>minutesAsleep</th>\n",
       "      <th>minutesAwake</th>\n",
       "      <th>minutesToFallAsleep</th>\n",
       "      <th>startTime</th>\n",
       "      <th>timeInBed</th>\n",
       "      <th>type</th>\n",
       "    </tr>\n",
       "    <tr>\n",
       "      <th>logId</th>\n",
       "      <th></th>\n",
       "      <th></th>\n",
       "      <th></th>\n",
       "      <th></th>\n",
       "      <th></th>\n",
       "      <th></th>\n",
       "      <th></th>\n",
       "      <th></th>\n",
       "      <th></th>\n",
       "      <th></th>\n",
       "      <th></th>\n",
       "      <th></th>\n",
       "      <th></th>\n",
       "      <th></th>\n",
       "      <th></th>\n",
       "      <th></th>\n",
       "      <th></th>\n",
       "      <th></th>\n",
       "      <th></th>\n",
       "      <th></th>\n",
       "      <th></th>\n",
       "    </tr>\n",
       "  </thead>\n",
       "  <tbody>\n",
       "    <tr>\n",
       "      <th>20597811657</th>\n",
       "      <td>2018-12-26</td>\n",
       "      <td>96</td>\n",
       "      <td>2018-12-26 10:55:00</td>\n",
       "      <td>0</td>\n",
       "      <td>0.00</td>\n",
       "      <td>0.00</td>\n",
       "      <td>0.00</td>\n",
       "      <td>0.00</td>\n",
       "      <td>6.00</td>\n",
       "      <td>65.00</td>\n",
       "      <td>...</td>\n",
       "      <td>32.00</td>\n",
       "      <td>33.00</td>\n",
       "      <td>0.00</td>\n",
       "      <td>0</td>\n",
       "      <td>453</td>\n",
       "      <td>33</td>\n",
       "      <td>0</td>\n",
       "      <td>2018-12-26 02:49:00</td>\n",
       "      <td>486</td>\n",
       "      <td>stages</td>\n",
       "    </tr>\n",
       "    <tr>\n",
       "      <th>20598864707</th>\n",
       "      <td>2018-12-26</td>\n",
       "      <td>95</td>\n",
       "      <td>2018-12-26 14:09:30</td>\n",
       "      <td>2</td>\n",
       "      <td>0.00</td>\n",
       "      <td>95.00</td>\n",
       "      <td>1.00</td>\n",
       "      <td>2.00</td>\n",
       "      <td>0.00</td>\n",
       "      <td>0.00</td>\n",
       "      <td>...</td>\n",
       "      <td>0.00</td>\n",
       "      <td>0.00</td>\n",
       "      <td>0.00</td>\n",
       "      <td>0</td>\n",
       "      <td>95</td>\n",
       "      <td>5</td>\n",
       "      <td>0</td>\n",
       "      <td>2018-12-26 12:29:00</td>\n",
       "      <td>100</td>\n",
       "      <td>classic</td>\n",
       "    </tr>\n",
       "    <tr>\n",
       "      <th>20608911100</th>\n",
       "      <td>2018-12-27</td>\n",
       "      <td>94</td>\n",
       "      <td>2018-12-27 10:23:30</td>\n",
       "      <td>0</td>\n",
       "      <td>0.00</td>\n",
       "      <td>0.00</td>\n",
       "      <td>0.00</td>\n",
       "      <td>0.00</td>\n",
       "      <td>3.00</td>\n",
       "      <td>63.00</td>\n",
       "      <td>...</td>\n",
       "      <td>33.00</td>\n",
       "      <td>66.00</td>\n",
       "      <td>33.00</td>\n",
       "      <td>0</td>\n",
       "      <td>393</td>\n",
       "      <td>66</td>\n",
       "      <td>0</td>\n",
       "      <td>2018-12-27 02:44:00</td>\n",
       "      <td>459</td>\n",
       "      <td>stages</td>\n",
       "    </tr>\n",
       "    <tr>\n",
       "      <th>20624450075</th>\n",
       "      <td>2018-12-28</td>\n",
       "      <td>94</td>\n",
       "      <td>2018-12-28 10:01:30</td>\n",
       "      <td>0</td>\n",
       "      <td>0.00</td>\n",
       "      <td>0.00</td>\n",
       "      <td>0.00</td>\n",
       "      <td>0.00</td>\n",
       "      <td>6.00</td>\n",
       "      <td>83.00</td>\n",
       "      <td>...</td>\n",
       "      <td>37.00</td>\n",
       "      <td>49.00</td>\n",
       "      <td>50.00</td>\n",
       "      <td>1</td>\n",
       "      <td>400</td>\n",
       "      <td>49</td>\n",
       "      <td>0</td>\n",
       "      <td>2018-12-28 02:32:00</td>\n",
       "      <td>449</td>\n",
       "      <td>stages</td>\n",
       "    </tr>\n",
       "    <tr>\n",
       "      <th>20626208454</th>\n",
       "      <td>2018-12-28</td>\n",
       "      <td>97</td>\n",
       "      <td>2018-12-28 15:58:00</td>\n",
       "      <td>2</td>\n",
       "      <td>0.00</td>\n",
       "      <td>83.00</td>\n",
       "      <td>0.00</td>\n",
       "      <td>0.00</td>\n",
       "      <td>0.00</td>\n",
       "      <td>0.00</td>\n",
       "      <td>...</td>\n",
       "      <td>0.00</td>\n",
       "      <td>0.00</td>\n",
       "      <td>0.00</td>\n",
       "      <td>0</td>\n",
       "      <td>83</td>\n",
       "      <td>3</td>\n",
       "      <td>0</td>\n",
       "      <td>2018-12-28 14:32:00</td>\n",
       "      <td>86</td>\n",
       "      <td>classic</td>\n",
       "    </tr>\n",
       "  </tbody>\n",
       "</table>\n",
       "<p>5 rows × 29 columns</p>\n",
       "</div>"
      ],
      "text/plain": [
       "            dateOfSleep  efficiency             endTime  infoCode  \\\n",
       "logId                                                               \n",
       "20597811657  2018-12-26          96 2018-12-26 10:55:00         0   \n",
       "20598864707  2018-12-26          95 2018-12-26 14:09:30         2   \n",
       "20608911100  2018-12-27          94 2018-12-27 10:23:30         0   \n",
       "20624450075  2018-12-28          94 2018-12-28 10:01:30         0   \n",
       "20626208454  2018-12-28          97 2018-12-28 15:58:00         2   \n",
       "\n",
       "             levels.summary.asleep.count  levels.summary.asleep.minutes  \\\n",
       "logId                                                                     \n",
       "20597811657                         0.00                           0.00   \n",
       "20598864707                         0.00                          95.00   \n",
       "20608911100                         0.00                           0.00   \n",
       "20624450075                         0.00                           0.00   \n",
       "20626208454                         0.00                          83.00   \n",
       "\n",
       "             levels.summary.awake.count  levels.summary.awake.minutes  \\\n",
       "logId                                                                   \n",
       "20597811657                        0.00                          0.00   \n",
       "20598864707                        1.00                          2.00   \n",
       "20608911100                        0.00                          0.00   \n",
       "20624450075                        0.00                          0.00   \n",
       "20626208454                        0.00                          0.00   \n",
       "\n",
       "             levels.summary.deep.count  levels.summary.deep.minutes   ...     \\\n",
       "logId                                                                 ...      \n",
       "20597811657                       6.00                        65.00   ...      \n",
       "20598864707                       0.00                         0.00   ...      \n",
       "20608911100                       3.00                        63.00   ...      \n",
       "20624450075                       6.00                        83.00   ...      \n",
       "20626208454                       0.00                         0.00   ...      \n",
       "\n",
       "             levels.summary.wake.count  levels.summary.wake.minutes  \\\n",
       "logId                                                                 \n",
       "20597811657                      32.00                        33.00   \n",
       "20598864707                       0.00                         0.00   \n",
       "20608911100                      33.00                        66.00   \n",
       "20624450075                      37.00                        49.00   \n",
       "20626208454                       0.00                         0.00   \n",
       "\n",
       "             levels.summary.wake.thirtyDayAvgMinutes  minutesAfterWakeup  \\\n",
       "logId                                                                      \n",
       "20597811657                                     0.00                   0   \n",
       "20598864707                                     0.00                   0   \n",
       "20608911100                                    33.00                   0   \n",
       "20624450075                                    50.00                   1   \n",
       "20626208454                                     0.00                   0   \n",
       "\n",
       "             minutesAsleep  minutesAwake  minutesToFallAsleep  \\\n",
       "logId                                                           \n",
       "20597811657            453            33                    0   \n",
       "20598864707             95             5                    0   \n",
       "20608911100            393            66                    0   \n",
       "20624450075            400            49                    0   \n",
       "20626208454             83             3                    0   \n",
       "\n",
       "                      startTime  timeInBed     type  \n",
       "logId                                                \n",
       "20597811657 2018-12-26 02:49:00        486   stages  \n",
       "20598864707 2018-12-26 12:29:00        100  classic  \n",
       "20608911100 2018-12-27 02:44:00        459   stages  \n",
       "20624450075 2018-12-28 02:32:00        449   stages  \n",
       "20626208454 2018-12-28 14:32:00         86  classic  \n",
       "\n",
       "[5 rows x 29 columns]"
      ]
     },
     "execution_count": 3,
     "metadata": {},
     "output_type": "execute_result"
    }
   ],
   "source": [
    "sleep.head()"
   ]
  },
  {
   "cell_type": "code",
   "execution_count": 4,
   "metadata": {},
   "outputs": [
    {
     "name": "stdout",
     "output_type": "stream",
     "text": [
      "<class 'pandas.core.frame.DataFrame'>\n",
      "Int64Index: 89 entries, 20597811657 to 21725640545\n",
      "Data columns (total 29 columns):\n",
      "dateOfSleep                                 89 non-null datetime64[ns]\n",
      "efficiency                                  89 non-null int64\n",
      "endTime                                     89 non-null datetime64[ns]\n",
      "infoCode                                    89 non-null int64\n",
      "levels.summary.asleep.count                 89 non-null float64\n",
      "levels.summary.asleep.minutes               89 non-null float64\n",
      "levels.summary.awake.count                  89 non-null float64\n",
      "levels.summary.awake.minutes                89 non-null float64\n",
      "levels.summary.deep.count                   89 non-null float64\n",
      "levels.summary.deep.minutes                 89 non-null float64\n",
      "levels.summary.deep.thirtyDayAvgMinutes     89 non-null float64\n",
      "levels.summary.light.count                  89 non-null float64\n",
      "levels.summary.light.minutes                89 non-null float64\n",
      "levels.summary.light.thirtyDayAvgMinutes    89 non-null float64\n",
      "levels.summary.rem.count                    89 non-null float64\n",
      "levels.summary.rem.minutes                  89 non-null float64\n",
      "levels.summary.rem.thirtyDayAvgMinutes      89 non-null float64\n",
      "levels.summary.restless.count               89 non-null float64\n",
      "levels.summary.restless.minutes             89 non-null float64\n",
      "levels.summary.wake.count                   89 non-null float64\n",
      "levels.summary.wake.minutes                 89 non-null float64\n",
      "levels.summary.wake.thirtyDayAvgMinutes     89 non-null float64\n",
      "minutesAfterWakeup                          89 non-null int64\n",
      "minutesAsleep                               89 non-null int64\n",
      "minutesAwake                                89 non-null int64\n",
      "minutesToFallAsleep                         89 non-null int64\n",
      "startTime                                   89 non-null datetime64[ns]\n",
      "timeInBed                                   89 non-null int64\n",
      "type                                        89 non-null object\n",
      "dtypes: datetime64[ns](3), float64(18), int64(7), object(1)\n",
      "memory usage: 20.9+ KB\n"
     ]
    }
   ],
   "source": [
    "sleep.info()"
   ]
  },
  {
   "cell_type": "code",
   "execution_count": 5,
   "metadata": {},
   "outputs": [
    {
     "data": {
      "text/html": [
       "<div>\n",
       "<style scoped>\n",
       "    .dataframe tbody tr th:only-of-type {\n",
       "        vertical-align: middle;\n",
       "    }\n",
       "\n",
       "    .dataframe tbody tr th {\n",
       "        vertical-align: top;\n",
       "    }\n",
       "\n",
       "    .dataframe thead th {\n",
       "        text-align: right;\n",
       "    }\n",
       "</style>\n",
       "<table border=\"1\" class=\"dataframe\">\n",
       "  <thead>\n",
       "    <tr style=\"text-align: right;\">\n",
       "      <th></th>\n",
       "      <th>logId</th>\n",
       "      <th>dateTime</th>\n",
       "      <th>value.bpm</th>\n",
       "      <th>value.confidence</th>\n",
       "    </tr>\n",
       "  </thead>\n",
       "  <tbody>\n",
       "    <tr>\n",
       "      <th>0</th>\n",
       "      <td>20597811657.00</td>\n",
       "      <td>2018-12-26 02:49:05</td>\n",
       "      <td>70</td>\n",
       "      <td>1</td>\n",
       "    </tr>\n",
       "    <tr>\n",
       "      <th>1</th>\n",
       "      <td>20597811657.00</td>\n",
       "      <td>2018-12-26 02:49:10</td>\n",
       "      <td>73</td>\n",
       "      <td>1</td>\n",
       "    </tr>\n",
       "    <tr>\n",
       "      <th>2</th>\n",
       "      <td>20597811657.00</td>\n",
       "      <td>2018-12-26 02:49:15</td>\n",
       "      <td>74</td>\n",
       "      <td>1</td>\n",
       "    </tr>\n",
       "    <tr>\n",
       "      <th>3</th>\n",
       "      <td>20597811657.00</td>\n",
       "      <td>2018-12-26 02:49:20</td>\n",
       "      <td>73</td>\n",
       "      <td>1</td>\n",
       "    </tr>\n",
       "    <tr>\n",
       "      <th>4</th>\n",
       "      <td>20597811657.00</td>\n",
       "      <td>2018-12-26 02:49:25</td>\n",
       "      <td>74</td>\n",
       "      <td>1</td>\n",
       "    </tr>\n",
       "  </tbody>\n",
       "</table>\n",
       "</div>"
      ],
      "text/plain": [
       "           logId            dateTime  value.bpm  value.confidence\n",
       "0 20597811657.00 2018-12-26 02:49:05         70                 1\n",
       "1 20597811657.00 2018-12-26 02:49:10         73                 1\n",
       "2 20597811657.00 2018-12-26 02:49:15         74                 1\n",
       "3 20597811657.00 2018-12-26 02:49:20         73                 1\n",
       "4 20597811657.00 2018-12-26 02:49:25         74                 1"
      ]
     },
     "execution_count": 5,
     "metadata": {},
     "output_type": "execute_result"
    }
   ],
   "source": [
    "heart_rate.head()"
   ]
  },
  {
   "cell_type": "code",
   "execution_count": 6,
   "metadata": {},
   "outputs": [
    {
     "name": "stdout",
     "output_type": "stream",
     "text": [
      "<class 'pandas.core.frame.DataFrame'>\n",
      "RangeIndex: 215843 entries, 0 to 215842\n",
      "Data columns (total 4 columns):\n",
      "logId               215843 non-null float64\n",
      "dateTime            215843 non-null datetime64[ns]\n",
      "value.bpm           215843 non-null int64\n",
      "value.confidence    215843 non-null int64\n",
      "dtypes: datetime64[ns](1), float64(1), int64(2)\n",
      "memory usage: 6.6 MB\n"
     ]
    }
   ],
   "source": [
    "heart_rate.info()"
   ]
  },
  {
   "cell_type": "markdown",
   "metadata": {},
   "source": [
    "# Split Data into Pre- & Post- switch"
   ]
  },
  {
   "cell_type": "code",
   "execution_count": 7,
   "metadata": {},
   "outputs": [],
   "source": [
    "# Split data into pre- and post- single pillow change. Beginning of March for simplicity\n",
    "presingle_sleep = sleep[sleep['dateOfSleep'].dt.month != 3]\n",
    "single_sleep = sleep[sleep['dateOfSleep'].dt.month == 3]"
   ]
  },
  {
   "cell_type": "code",
   "execution_count": 8,
   "metadata": {},
   "outputs": [],
   "source": [
    "# Filter out sleeps less than 3 hours\n",
    "presingle_nights = presingle_sleep[presingle_sleep['minutesAsleep'] >= 180]\n",
    "single_nights = single_sleep[single_sleep['minutesAsleep'] >= 180]"
   ]
  },
  {
   "cell_type": "code",
   "execution_count": null,
   "metadata": {},
   "outputs": [],
   "source": []
  },
  {
   "cell_type": "code",
   "execution_count": null,
   "metadata": {},
   "outputs": [],
   "source": []
  },
  {
   "cell_type": "markdown",
   "metadata": {},
   "source": [
    "# Investigate Heart Rate data during sleep"
   ]
  },
  {
   "cell_type": "code",
   "execution_count": 9,
   "metadata": {},
   "outputs": [],
   "source": [
    "# Filter out logId in heart_rate not found in presingle_nights and single_nights\n",
    "presingle_hr = heart_rate[heart_rate['logId'].isin(presingle_nights.index)]\n",
    "single_hr = heart_rate[heart_rate['logId'].isin(single_nights.index)]"
   ]
  },
  {
   "cell_type": "code",
   "execution_count": 10,
   "metadata": {},
   "outputs": [
    {
     "data": {
      "text/html": [
       "<div>\n",
       "<style scoped>\n",
       "    .dataframe tbody tr th:only-of-type {\n",
       "        vertical-align: middle;\n",
       "    }\n",
       "\n",
       "    .dataframe tbody tr th {\n",
       "        vertical-align: top;\n",
       "    }\n",
       "\n",
       "    .dataframe thead th {\n",
       "        text-align: right;\n",
       "    }\n",
       "</style>\n",
       "<table border=\"1\" class=\"dataframe\">\n",
       "  <thead>\n",
       "    <tr style=\"text-align: right;\">\n",
       "      <th></th>\n",
       "      <th>logId</th>\n",
       "      <th>dateTime</th>\n",
       "      <th>value.bpm</th>\n",
       "      <th>value.confidence</th>\n",
       "    </tr>\n",
       "  </thead>\n",
       "  <tbody>\n",
       "    <tr>\n",
       "      <th>0</th>\n",
       "      <td>20597811657.00</td>\n",
       "      <td>2018-12-26 02:49:05</td>\n",
       "      <td>70</td>\n",
       "      <td>1</td>\n",
       "    </tr>\n",
       "    <tr>\n",
       "      <th>1</th>\n",
       "      <td>20597811657.00</td>\n",
       "      <td>2018-12-26 02:49:10</td>\n",
       "      <td>73</td>\n",
       "      <td>1</td>\n",
       "    </tr>\n",
       "    <tr>\n",
       "      <th>2</th>\n",
       "      <td>20597811657.00</td>\n",
       "      <td>2018-12-26 02:49:15</td>\n",
       "      <td>74</td>\n",
       "      <td>1</td>\n",
       "    </tr>\n",
       "    <tr>\n",
       "      <th>3</th>\n",
       "      <td>20597811657.00</td>\n",
       "      <td>2018-12-26 02:49:20</td>\n",
       "      <td>73</td>\n",
       "      <td>1</td>\n",
       "    </tr>\n",
       "    <tr>\n",
       "      <th>4</th>\n",
       "      <td>20597811657.00</td>\n",
       "      <td>2018-12-26 02:49:25</td>\n",
       "      <td>74</td>\n",
       "      <td>1</td>\n",
       "    </tr>\n",
       "    <tr>\n",
       "      <th>5</th>\n",
       "      <td>20597811657.00</td>\n",
       "      <td>2018-12-26 02:49:35</td>\n",
       "      <td>79</td>\n",
       "      <td>1</td>\n",
       "    </tr>\n",
       "    <tr>\n",
       "      <th>6</th>\n",
       "      <td>20597811657.00</td>\n",
       "      <td>2018-12-26 02:49:40</td>\n",
       "      <td>80</td>\n",
       "      <td>1</td>\n",
       "    </tr>\n",
       "    <tr>\n",
       "      <th>7</th>\n",
       "      <td>20597811657.00</td>\n",
       "      <td>2018-12-26 02:49:45</td>\n",
       "      <td>79</td>\n",
       "      <td>2</td>\n",
       "    </tr>\n",
       "    <tr>\n",
       "      <th>8</th>\n",
       "      <td>20597811657.00</td>\n",
       "      <td>2018-12-26 02:49:55</td>\n",
       "      <td>79</td>\n",
       "      <td>1</td>\n",
       "    </tr>\n",
       "    <tr>\n",
       "      <th>9</th>\n",
       "      <td>20597811657.00</td>\n",
       "      <td>2018-12-26 02:50:10</td>\n",
       "      <td>76</td>\n",
       "      <td>1</td>\n",
       "    </tr>\n",
       "  </tbody>\n",
       "</table>\n",
       "</div>"
      ],
      "text/plain": [
       "           logId            dateTime  value.bpm  value.confidence\n",
       "0 20597811657.00 2018-12-26 02:49:05         70                 1\n",
       "1 20597811657.00 2018-12-26 02:49:10         73                 1\n",
       "2 20597811657.00 2018-12-26 02:49:15         74                 1\n",
       "3 20597811657.00 2018-12-26 02:49:20         73                 1\n",
       "4 20597811657.00 2018-12-26 02:49:25         74                 1\n",
       "5 20597811657.00 2018-12-26 02:49:35         79                 1\n",
       "6 20597811657.00 2018-12-26 02:49:40         80                 1\n",
       "7 20597811657.00 2018-12-26 02:49:45         79                 2\n",
       "8 20597811657.00 2018-12-26 02:49:55         79                 1\n",
       "9 20597811657.00 2018-12-26 02:50:10         76                 1"
      ]
     },
     "execution_count": 10,
     "metadata": {},
     "output_type": "execute_result"
    }
   ],
   "source": [
    "presingle_hr.head(10)"
   ]
  },
  {
   "cell_type": "code",
   "execution_count": 11,
   "metadata": {},
   "outputs": [],
   "source": [
    "def standardize_sleep_time(hr_df):\n",
    "    '''This function adds a column to signify how long into a sleep observation the heart rate\n",
    "    recording was taken'''\n",
    "    \n",
    "    hr_timer = pd.DataFrame()\n",
    "    \n",
    "    # Use sleep start times to subtract from each time in hr_df\n",
    "    for x in hr_df['logId'].unique():\n",
    "        filtered_hr = hr_df[hr_df['logId'] == x]\n",
    "        \n",
    "        filtered_hr['time_asleep'] = filtered_hr['dateTime'] - filtered_hr['dateTime'].min()\n",
    "        \n",
    "        hr_timer = hr_timer.append(filtered_hr)\n",
    "    \n",
    "    return hr_timer"
   ]
  },
  {
   "cell_type": "code",
   "execution_count": 13,
   "metadata": {},
   "outputs": [
    {
     "name": "stderr",
     "output_type": "stream",
     "text": [
      "C:\\Users\\Chiga\\AppData\\Local\\Continuum\\anaconda3\\lib\\site-packages\\ipykernel_launcher.py:11: SettingWithCopyWarning:\n",
      "\n",
      "\n",
      "A value is trying to be set on a copy of a slice from a DataFrame.\n",
      "Try using .loc[row_indexer,col_indexer] = value instead\n",
      "\n",
      "See the caveats in the documentation: http://pandas.pydata.org/pandas-docs/stable/indexing.html#indexing-view-versus-copy\n",
      "\n"
     ]
    }
   ],
   "source": [
    "presingle_hr_timer = standardize_sleep_time(presingle_hr)"
   ]
  },
  {
   "cell_type": "code",
   "execution_count": 14,
   "metadata": {},
   "outputs": [
    {
     "data": {
      "text/html": [
       "<div>\n",
       "<style scoped>\n",
       "    .dataframe tbody tr th:only-of-type {\n",
       "        vertical-align: middle;\n",
       "    }\n",
       "\n",
       "    .dataframe tbody tr th {\n",
       "        vertical-align: top;\n",
       "    }\n",
       "\n",
       "    .dataframe thead th {\n",
       "        text-align: right;\n",
       "    }\n",
       "</style>\n",
       "<table border=\"1\" class=\"dataframe\">\n",
       "  <thead>\n",
       "    <tr style=\"text-align: right;\">\n",
       "      <th></th>\n",
       "      <th>logId</th>\n",
       "      <th>dateTime</th>\n",
       "      <th>value.bpm</th>\n",
       "      <th>value.confidence</th>\n",
       "      <th>time_asleep</th>\n",
       "    </tr>\n",
       "  </thead>\n",
       "  <tbody>\n",
       "    <tr>\n",
       "      <th>0</th>\n",
       "      <td>20597811657.00</td>\n",
       "      <td>2018-12-26 02:49:05</td>\n",
       "      <td>70</td>\n",
       "      <td>1</td>\n",
       "      <td>00:00:00</td>\n",
       "    </tr>\n",
       "    <tr>\n",
       "      <th>1</th>\n",
       "      <td>20597811657.00</td>\n",
       "      <td>2018-12-26 02:49:10</td>\n",
       "      <td>73</td>\n",
       "      <td>1</td>\n",
       "      <td>00:00:05</td>\n",
       "    </tr>\n",
       "    <tr>\n",
       "      <th>2</th>\n",
       "      <td>20597811657.00</td>\n",
       "      <td>2018-12-26 02:49:15</td>\n",
       "      <td>74</td>\n",
       "      <td>1</td>\n",
       "      <td>00:00:10</td>\n",
       "    </tr>\n",
       "    <tr>\n",
       "      <th>3</th>\n",
       "      <td>20597811657.00</td>\n",
       "      <td>2018-12-26 02:49:20</td>\n",
       "      <td>73</td>\n",
       "      <td>1</td>\n",
       "      <td>00:00:15</td>\n",
       "    </tr>\n",
       "    <tr>\n",
       "      <th>4</th>\n",
       "      <td>20597811657.00</td>\n",
       "      <td>2018-12-26 02:49:25</td>\n",
       "      <td>74</td>\n",
       "      <td>1</td>\n",
       "      <td>00:00:20</td>\n",
       "    </tr>\n",
       "  </tbody>\n",
       "</table>\n",
       "</div>"
      ],
      "text/plain": [
       "           logId            dateTime  value.bpm  value.confidence time_asleep\n",
       "0 20597811657.00 2018-12-26 02:49:05         70                 1    00:00:00\n",
       "1 20597811657.00 2018-12-26 02:49:10         73                 1    00:00:05\n",
       "2 20597811657.00 2018-12-26 02:49:15         74                 1    00:00:10\n",
       "3 20597811657.00 2018-12-26 02:49:20         73                 1    00:00:15\n",
       "4 20597811657.00 2018-12-26 02:49:25         74                 1    00:00:20"
      ]
     },
     "execution_count": 14,
     "metadata": {},
     "output_type": "execute_result"
    }
   ],
   "source": [
    "presingle_hr_timer.head()"
   ]
  },
  {
   "cell_type": "code",
   "execution_count": null,
   "metadata": {},
   "outputs": [],
   "source": []
  },
  {
   "cell_type": "code",
   "execution_count": 19,
   "metadata": {},
   "outputs": [
    {
     "data": {
      "text/plain": [
       "'file://C:\\\\Users\\\\Chiga\\\\Desktop\\\\Projects\\\\MyFitBit\\\\EDA\\\\temp-plot.html'"
      ]
     },
     "execution_count": 19,
     "metadata": {},
     "output_type": "execute_result"
    }
   ],
   "source": [
    "test_hr = presingle_hr_timer[presingle_hr_timer['logId'] == 20608911100]\n",
    "\n",
    "test_trace = go.Scatter(x = test_hr['time_asleep'],\n",
    "                       y = test_hr['value.bpm'])\n",
    "\n",
    "test_fig = go.Figure(data = [test_trace])\n",
    "\n",
    "plotly.offline.plot(test_fig)"
   ]
  },
  {
   "cell_type": "code",
   "execution_count": null,
   "metadata": {},
   "outputs": [],
   "source": []
  },
  {
   "cell_type": "code",
   "execution_count": 15,
   "metadata": {},
   "outputs": [],
   "source": [
    "pre_plotly_hr_data = []\n",
    "\n",
    "for x in presingle_hr_timer['logId'].unique():\n",
    "    hr_data = presingle_hr_timer[presingle_hr_timer['logId'] == x]\n",
    "    \n",
    "    trace = go.Scatter(x = presingle_hr_timer['time_asleep'],\n",
    "                      y = presingle_hr_timer['value.bpm'],\n",
    "                      opacity = 0.6,\n",
    "                      name = x)\n",
    "    \n",
    "    pre_plotly_hr_data.append(trace)"
   ]
  },
  {
   "cell_type": "code",
   "execution_count": 16,
   "metadata": {},
   "outputs": [],
   "source": [
    "pre_fig = go.Figure(data = pre_plotly_hr_data)"
   ]
  },
  {
   "cell_type": "code",
   "execution_count": 17,
   "metadata": {},
   "outputs": [
    {
     "data": {
      "text/plain": [
       "'file://C:\\\\Users\\\\Chiga\\\\Desktop\\\\Projects\\\\MyFitBit\\\\EDA\\\\temp-plot.html'"
      ]
     },
     "execution_count": 17,
     "metadata": {},
     "output_type": "execute_result"
    }
   ],
   "source": [
    "plotly.offline.plot(pre_fig)"
   ]
  },
  {
   "cell_type": "markdown",
   "metadata": {},
   "source": [
    "## Investigate Different Statistics of ``levels``"
   ]
  },
  {
   "cell_type": "code",
   "execution_count": null,
   "metadata": {},
   "outputs": [],
   "source": [
    "# Create a regex pattern to filter out level summary counts and minutes\n",
    "sleep_col_pattern = re.compile('levels.summary.*.[count, minute]')"
   ]
  },
  {
   "cell_type": "code",
   "execution_count": null,
   "metadata": {},
   "outputs": [],
   "source": [
    "# Filter out sleeps less than 3 hours and 'levels.summary' columns\n",
    "presingle_sleep_levels = presingle_sleep.loc[:, [bool(re.match(sleep_col_pattern, x)) for x in sleep.columns]]\n",
    "postsingle_sleep_levels = single_sleep.loc[:, [bool(re.match(sleep_col_pattern, x)) for x in sleep.columns]]"
   ]
  },
  {
   "cell_type": "code",
   "execution_count": null,
   "metadata": {},
   "outputs": [],
   "source": []
  },
  {
   "cell_type": "code",
   "execution_count": null,
   "metadata": {},
   "outputs": [],
   "source": [
    "presingle_sleep_levels.head()"
   ]
  },
  {
   "cell_type": "code",
   "execution_count": null,
   "metadata": {},
   "outputs": [],
   "source": []
  },
  {
   "cell_type": "code",
   "execution_count": null,
   "metadata": {},
   "outputs": [],
   "source": [
    "pre_plotly_data = []\n",
    "for x in presingle_sleep_levels.index:\n",
    "    \n",
    "    hr_data = heart_rate[heart_rate['logId'] == x]\n",
    "    \n",
    "    trace = go.Scatter(x = hr_data['dateTime'],\n",
    "                      y = hr_data['value.bpm'],\n",
    "                      opacity = 0.6,\n",
    "                      name = x)\n",
    "    \n",
    "    pre_plotly_data.append(trace)"
   ]
  },
  {
   "cell_type": "code",
   "execution_count": null,
   "metadata": {},
   "outputs": [],
   "source": [
    "pre_fig = go.Figure(data = pre_plotly_data)"
   ]
  },
  {
   "cell_type": "code",
   "execution_count": null,
   "metadata": {},
   "outputs": [],
   "source": [
    "plotly.offline.plot(pre_fig)"
   ]
  },
  {
   "cell_type": "code",
   "execution_count": null,
   "metadata": {},
   "outputs": [],
   "source": []
  },
  {
   "cell_type": "code",
   "execution_count": null,
   "metadata": {},
   "outputs": [],
   "source": []
  },
  {
   "cell_type": "code",
   "execution_count": null,
   "metadata": {},
   "outputs": [],
   "source": [
    "post_plotly_data = []\n",
    "for x in postsingle_sleep_levels.index:\n",
    "    \n",
    "    hr_data = heart_rate[heart_rate['logId'] == x]\n",
    "    \n",
    "    trace = go.Scatter(x = hr_data['dateTime'],\n",
    "                      y = hr_data['value.bpm'],\n",
    "                      opacity = 0.6,\n",
    "                      name = x)\n",
    "    \n",
    "    post_plotly_data.append(trace)"
   ]
  },
  {
   "cell_type": "code",
   "execution_count": null,
   "metadata": {},
   "outputs": [],
   "source": [
    "post_fig = go.Figure(data = post_plotly_data)"
   ]
  },
  {
   "cell_type": "code",
   "execution_count": null,
   "metadata": {},
   "outputs": [],
   "source": [
    "plotly.offline.plot(post_fig)"
   ]
  },
  {
   "cell_type": "code",
   "execution_count": null,
   "metadata": {},
   "outputs": [],
   "source": []
  },
  {
   "cell_type": "code",
   "execution_count": null,
   "metadata": {},
   "outputs": [],
   "source": []
  },
  {
   "cell_type": "code",
   "execution_count": null,
   "metadata": {},
   "outputs": [],
   "source": []
  },
  {
   "cell_type": "code",
   "execution_count": null,
   "metadata": {},
   "outputs": [],
   "source": []
  },
  {
   "cell_type": "code",
   "execution_count": null,
   "metadata": {},
   "outputs": [],
   "source": [
    "trace1 = go.Histogram(x = presingle_sleep['levels.summary.wake.count'],\n",
    "                     opacity = 0.6,\n",
    "                     name = 'Pre-Single Pillow')\n",
    "\n",
    "trace2 = go.Histogram( x = single_sleep['levels.summary.wake.count'],\n",
    "                     opacity = 0.6,\n",
    "                     name = 'Single Pillow')\n",
    "\n",
    "data = [trace1, trace2]"
   ]
  },
  {
   "cell_type": "code",
   "execution_count": null,
   "metadata": {},
   "outputs": [],
   "source": [
    "layout = go.Layout(barmode = 'overlay',\n",
    "                  title = 'Distribution of Pre- and Post- Single Pillow Wake',\n",
    "                  xaxis = dict(title = 'Total Wake Count by Night'),\n",
    "                  yaxis = dict(title = 'Count'))"
   ]
  },
  {
   "cell_type": "code",
   "execution_count": null,
   "metadata": {},
   "outputs": [],
   "source": [
    "fig = go.Figure(data = data, layout = layout)"
   ]
  },
  {
   "cell_type": "code",
   "execution_count": null,
   "metadata": {},
   "outputs": [],
   "source": [
    "plotly.offline.plot(fig)"
   ]
  },
  {
   "cell_type": "code",
   "execution_count": null,
   "metadata": {},
   "outputs": [],
   "source": []
  }
 ],
 "metadata": {
  "kernelspec": {
   "display_name": "Python 3",
   "language": "python",
   "name": "python3"
  },
  "language_info": {
   "codemirror_mode": {
    "name": "ipython",
    "version": 3
   },
   "file_extension": ".py",
   "mimetype": "text/x-python",
   "name": "python",
   "nbconvert_exporter": "python",
   "pygments_lexer": "ipython3",
   "version": "3.6.6"
  }
 },
 "nbformat": 4,
 "nbformat_minor": 2
}
